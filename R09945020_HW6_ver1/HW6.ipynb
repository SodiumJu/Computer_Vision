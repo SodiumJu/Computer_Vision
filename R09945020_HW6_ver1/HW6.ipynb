{
 "cells": [
  {
   "cell_type": "markdown",
   "metadata": {},
   "source": [
    "## Importing stuffs"
   ]
  },
  {
   "cell_type": "code",
   "execution_count": 1,
   "metadata": {},
   "outputs": [],
   "source": [
    "import numpy as np\n",
    "import matplotlib.pyplot as plt\n",
    "from PIL import Image\n",
    "import cv2\n",
    "import pandas as pd"
   ]
  },
  {
   "cell_type": "markdown",
   "metadata": {},
   "source": [
    "## Write a program which counts the Yokoi connectivity number on a downsampled image(lena.bmp)."
   ]
  },
  {
   "cell_type": "markdown",
   "metadata": {},
   "source": [
    "#### Downsampling Lena from 512x512 to 64x64: \n",
    "* Binarize the benchmark image lena as in HW2, then using 8x8 blocks as a unit, take the topmost-left pixel as the downsampled data.\n",
    "* Count the Yokoi connectivity number on a downsampled lena using 4-connected.\n",
    "* Result of this assignment is a 64x64 matrix.\n",
    "* You can use any programing language to implement homework, however, you'll get zero point if you just call existing library.\n"
   ]
  },
  {
   "cell_type": "markdown",
   "metadata": {},
   "source": [
    "### Importing image and binarizing"
   ]
  },
  {
   "cell_type": "code",
   "execution_count": 2,
   "metadata": {},
   "outputs": [],
   "source": [
    "lena=cv2.imread('lena.bmp')"
   ]
  },
  {
   "cell_type": "code",
   "execution_count": 3,
   "metadata": {},
   "outputs": [],
   "source": [
    "bi_img = np.array([[[ 0 if lena[i, j, c] < 128 else 1 for c in range(lena.shape[2])] \n",
    "                           for j in range(int(lena.shape[1]))] \n",
    "                           for i in range(int(lena.shape[0]))], dtype='uint8')"
   ]
  },
  {
   "cell_type": "code",
   "execution_count": 5,
   "metadata": {},
   "outputs": [
    {
     "data": {
      "text/plain": [
       "<matplotlib.image.AxesImage at 0x7f867c656210>"
      ]
     },
     "execution_count": 5,
     "metadata": {},
     "output_type": "execute_result"
    },
    {
     "data": {
      "image/png": "[encoded data removed]",
      "text/plain": [
       "<Figure size 432x288 with 1 Axes>"
      ]
     },
     "metadata": {
      "needs_background": "light"
     },
     "output_type": "display_data"
    }
   ],
   "source": [
    "plt.imshow(bi_img*255)"
   ]
  },
  {
   "cell_type": "markdown",
   "metadata": {},
   "source": [
    "### Downsampling"
   ]
  },
  {
   "cell_type": "code",
   "execution_count": 14,
   "metadata": {},
   "outputs": [],
   "source": [
    "def downsampling(img,size):\n",
    "    H=img.shape[0]\n",
    "    W=img.shape[1]\n",
    "    new_H=int(H/size[0])\n",
    "    new_W=int(W/size[1])\n",
    "    new_img=np.zeros((new_H,new_W), dtype=np.int)\n",
    "    \n",
    "    for i in range(new_H):\n",
    "        for j in range(new_W):\n",
    "            new_img[i,j]=img[i*size[0]][j*size[1]][0]\n",
    "            \n",
    "    re_img=np.stack((new_img, new_img, new_img), axis = -1) \n",
    "    return re_img"
   ]
  },
  {
   "cell_type": "code",
   "execution_count": 15,
   "metadata": {},
   "outputs": [],
   "source": [
    "small_img=downsampling(bi_img,(8,8))"
   ]
  },
  {
   "cell_type": "code",
   "execution_count": 19,
   "metadata": {},
   "outputs": [
    {
     "data": {
      "text/plain": [
       "<matplotlib.image.AxesImage at 0x7f867cfb7bd0>"
      ]
     },
     "execution_count": 19,
     "metadata": {},
     "output_type": "execute_result"
    },
    {
     "data": {
      "image/png": "[encoded data removed]",
      "text/plain": [
       "<Figure size 432x288 with 1 Axes>"
      ]
     },
     "metadata": {
      "needs_background": "light"
     },
     "output_type": "display_data"
    }
   ],
   "source": [
    "plt.imshow(small_img*255)"
   ]
  },
  {
   "cell_type": "code",
   "execution_count": 48,
   "metadata": {},
   "outputs": [
    {
     "data": {
      "text/plain": [
       "True"
      ]
     },
     "execution_count": 48,
     "metadata": {},
     "output_type": "execute_result"
    }
   ],
   "source": [
    "cv2.imwrite('HW6-1.jpg',small_img*255)"
   ]
  },
  {
   "cell_type": "markdown",
   "metadata": {},
   "source": [
    "### Yokoi connectivity number"
   ]
  },
  {
   "cell_type": "code",
   "execution_count": 38,
   "metadata": {},
   "outputs": [],
   "source": [
    "def h_fun(b,c,d,e):\n",
    "    if(b==c and (d!=b or e != b)):\n",
    "        return 1\n",
    "    elif(b!=c):\n",
    "        return 10\n",
    "    else:\n",
    "        return 0"
   ]
  },
  {
   "cell_type": "code",
   "execution_count": 41,
   "metadata": {},
   "outputs": [],
   "source": [
    "def Yokoi(img):\n",
    "    H=img.shape[0]\n",
    "    W=img.shape[1]\n",
    "    new_img=np.zeros((H+2,W+2), dtype=np.int)\n",
    "    label_img=np.zeros((H,W), dtype=np.int)\n",
    "    for i in range(H):\n",
    "        for j in range(W):\n",
    "            new_img[i+1][j+1]=small_img[i][j][0]\n",
    "    \n",
    "    for i in range(H):\n",
    "        for j in range(W):\n",
    "            \n",
    "            x0=new_img[i,j]\n",
    "            if(x0==1):\n",
    "                x1=new_img[i,j+1]\n",
    "                x2=new_img[i-1,j]\n",
    "                x3=new_img[i,j-1]\n",
    "                x4=new_img[i+1,j]\n",
    "                x5=new_img[i+1,j+1]\n",
    "                x6=new_img[i-1,j+1]\n",
    "                x7=new_img[i-1,j-1]\n",
    "                x8=new_img[i+1,j-1]\n",
    "                label=0\n",
    "                label=h_fun(x0,x1,x6,x2)+h_fun(x0,x2,x7,x3)+h_fun(x0,x3,x8,x4)+h_fun(x0,x4,x5,x1)\n",
    "                re=label%10\n",
    "                if(label==40):\n",
    "                    label_img[i,j]=0\n",
    "                else:\n",
    "                    if (re==0):\n",
    "                        label_img[i,j]=5\n",
    "                    else:\n",
    "                        label_img[i,j]=re\n",
    "            \n",
    "    return label_img"
   ]
  },
  {
   "cell_type": "code",
   "execution_count": 49,
   "metadata": {},
   "outputs": [],
   "source": [
    "Yokoi_img=Yokoi(small_img)"
   ]
  },
  {
   "cell_type": "code",
   "execution_count": 56,
   "metadata": {},
   "outputs": [],
   "source": [
    "def print_label(arr):\n",
    "    for i in range(arr.shape[0]):\n",
    "        for j in range(arr.shape[1]):\n",
    "            if(arr[i,j]==0):\n",
    "                print(\" \",end='')\n",
    "            else:\n",
    "                print(arr[i,j],end='')\n",
    "        print()"
   ]
  },
  {
   "cell_type": "code",
   "execution_count": 57,
   "metadata": {},
   "outputs": [
    {
     "name": "stdout",
     "output_type": "stream",
     "text": [
      "                                                                \n",
      " 11111111        12111111111122322221     111111111111          \n",
      " 15555551         115555555511 2 11  11   1155555555511         \n",
      " 15555551        1 2115555112  21112221    155555555551      21 \n",
      " 15555551        1 2 155112 22221511       1555555555511     1  \n",
      " 15555551         22 2112 22    121        15555555555511       \n",
      " 15555551         1  2  21 2     1   1     15555555555551       \n",
      " 15555551           12 1  121111    1321   155555555555511      \n",
      " 15111551           1322 1155551111        155555555555551      \n",
      " 111 1551            1  121555555511       155555555555511      \n",
      " 11  1551                 21155555511      15511155555511       \n",
      " 21  1551                 2 15555555111    1551 11555511        \n",
      " 1   1551                 2 155555555511   1551  115551         \n",
      "     1551               1121155555555551   1551   15511        1\n",
      "     1551               15555555555555511  1551   1111        11\n",
      "     1551        1     2221155555555555511 1151    11        115\n",
      "     1551        2    22 1 1555555555555511 151  11111       155\n",
      "     1551        2    1   11555555555555551 151 115551      1155\n",
      "     1551        2       11555555555555555111511155511     11555\n",
      "     1551       12      11555555555555555555555555551      15555\n",
      "     1551       11     221555555555555555555555555112     115555\n",
      "     1551       111   22 15555555555555555555555551 1     155555\n",
      "     1551       1511  1 125112111112111555555555111      1155555\n",
      "     1551       15521  1 121 1 11  1  15555555111        1555555\n",
      "     1551       1151  132 2          1155555111         11555555\n",
      "     1551        151    322         115555111  121      15555555\n",
      "     1551        1221   2           1555551   131      115555555\n",
      "     1551         2     1          115555511   1       115555555\n",
      "     1551         2               1155555551          1 15555555\n",
      "     1551         2              11555555551          2115555555\n",
      "     1551         1             115555555551          1555555555\n",
      "     1551          1           11511115555521  1     11555555555\n",
      "     1551        1 1          11111  1155511   2     15555555555\n",
      "     1551       131           111     15111    2     15555555555\n",
      "     1551      121          1121   1  111  1   2    115555555555\n",
      "     1551      11           111 1  221 11  1   2    155555555555\n",
      "     1551    12       1     21 121  11 1111    2    155555555555\n",
      "     1551     1      12    22  151111111551    2   1155555555555\n",
      "     1551   1              2   1555551115511   1   1555555555555\n",
      "     1551   2             22  12555551 15551    1  1555555555555\n",
      "     1551   1             1    1555511 11511    2 11555555555555\n",
      "     1551               21     155551 1 151     2 15555555555555\n",
      "     1551               2      15555112 151     2 15555555555555\n",
      "     1551         1   1 1     1155555511111     2 15555555555555\n",
      "     1551         2  22       111511111212      2115555555555555\n",
      "     1551         1 12          151    2 1      1555555511155555\n",
      "     1551                       1111  121       155555551 155555\n",
      "     1551                        11111111       155555551 155555\n",
      "     1551                         115551        155555551 155551\n",
      "     1551                          15551        211111111 155511\n",
      "     11521      1   12          122155511       2     11 115511 \n",
      " 1    151       1    1            155555111     2111     15511  \n",
      " 22   1511          1             15555555111   155111   1511   \n",
      "  22  1511          1             15555555551   155551  1151    \n",
      "   2  151              1        11155555555511  155511  1511    \n",
      "   2  1521             1        155555555555511 15551 12151     \n",
      "   2  151           121         155555555555551 155511 1551     \n",
      "   2  1511                      155555555555551 115551 1511     \n",
      "   21 1511            11        155555555555551  111111151      \n",
      "   11 151                      11555555555555511    111511      \n",
      "   11 151                      15555555555555551      151       \n",
      "   11 151                     115555555555555551      211       \n",
      "   11 151                     1155555555555555511     1         \n",
      "   11 151                      155555555555555551               \n"
     ]
    }
   ],
   "source": [
    "print_label(Yokoi_img)"
   ]
  },
  {
   "cell_type": "code",
   "execution_count": null,
   "metadata": {},
   "outputs": [],
   "source": []
  }
 ],
 "metadata": {
  "kernelspec": {
   "display_name": "Python 3",
   "language": "python",
   "name": "python3"
  },
  "language_info": {
   "codemirror_mode": {
    "name": "ipython",
    "version": 3
   },
   "file_extension": ".py",
   "mimetype": "text/x-python",
   "name": "python",
   "nbconvert_exporter": "python",
   "pygments_lexer": "ipython3",
   "version": "3.7.6"
  }
 },
 "nbformat": 4,
 "nbformat_minor": 4
}
