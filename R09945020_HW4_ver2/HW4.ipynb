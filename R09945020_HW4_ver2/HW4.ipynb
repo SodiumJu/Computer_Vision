{
 "cells": [
  {
   "cell_type": "code",
   "execution_count": 1,
   "metadata": {},
   "outputs": [],
   "source": [
    "import numpy as np\n",
    "import matplotlib.pyplot as plt\n",
    "from PIL import Image\n",
    "import cv2\n",
    "import pandas as pd"
   ]
  },
  {
   "cell_type": "code",
   "execution_count": 3,
   "metadata": {},
   "outputs": [
    {
     "data": {
      "text/plain": [
       "'/Users/user/Documents/D/Schools 2/Computer Vision/R09945020_HW4_ver1'"
      ]
     },
     "execution_count": 3,
     "metadata": {},
     "output_type": "execute_result"
    }
   ],
   "source": [
    "pwd"
   ]
  },
  {
   "cell_type": "code",
   "execution_count": 2,
   "metadata": {},
   "outputs": [
    {
     "name": "stdout",
     "output_type": "stream",
     "text": [
      "[Errno 2] No such file or directory: 'R09945020_HW4_ver1/'\n",
      "/Users/user/Documents/D/Schools 2/Computer Vision/R09945020_HW4_ver1\n"
     ]
    }
   ],
   "source": [
    "cd R09945020_HW4_ver1/"
   ]
  },
  {
   "cell_type": "code",
   "execution_count": 4,
   "metadata": {},
   "outputs": [],
   "source": [
    "default_kernel=np.zeros((5,5), dtype=np.int)"
   ]
  },
  {
   "cell_type": "markdown",
   "metadata": {},
   "source": [
    "### Define the octogonal 3-5-5-5-3 kernel"
   ]
  },
  {
   "cell_type": "code",
   "execution_count": 5,
   "metadata": {},
   "outputs": [],
   "source": [
    "octogona_kernel=default_kernel\n",
    "for i in [0,4]:\n",
    "    for j in range(1,4):\n",
    "        octogona_kernel[i,j]=1\n",
    "for i in [1,2,3]:\n",
    "    for  j in range(5):\n",
    "        octogona_kernel[i,j]=1"
   ]
  },
  {
   "cell_type": "code",
   "execution_count": 6,
   "metadata": {},
   "outputs": [
    {
     "data": {
      "text/plain": [
       "array([[0, 1, 1, 1, 0],\n",
       "       [1, 1, 1, 1, 1],\n",
       "       [1, 1, 1, 1, 1],\n",
       "       [1, 1, 1, 1, 1],\n",
       "       [0, 1, 1, 1, 0]])"
      ]
     },
     "execution_count": 6,
     "metadata": {},
     "output_type": "execute_result"
    }
   ],
   "source": [
    "octogona_kernel"
   ]
  },
  {
   "cell_type": "markdown",
   "metadata": {},
   "source": [
    "### Import the image file"
   ]
  },
  {
   "cell_type": "code",
   "execution_count": 7,
   "metadata": {},
   "outputs": [],
   "source": [
    "lena=cv2.imread('lena.bmp')"
   ]
  },
  {
   "cell_type": "code",
   "execution_count": 8,
   "metadata": {},
   "outputs": [],
   "source": [
    "img=np.array(lena)"
   ]
  },
  {
   "cell_type": "markdown",
   "metadata": {},
   "source": [
    "### Convert the image into binary"
   ]
  },
  {
   "cell_type": "code",
   "execution_count": 9,
   "metadata": {},
   "outputs": [],
   "source": [
    "bi_img=np.zeros((img.shape[0],img.shape[1],img.shape[2]), dtype=np.int)\n",
    "for i in range(img.shape[0]):\n",
    "    for j in range(img.shape[1]):\n",
    "        for k in range(img.shape[2]):\n",
    "            if(img[i,j,k]>=128):\n",
    "                bi_img[i,j,k]=1\n",
    "            else:\n",
    "                bi_img[i,j,k]=0\n",
    "                "
   ]
  },
  {
   "cell_type": "code",
   "execution_count": 21,
   "metadata": {},
   "outputs": [
    {
     "data": {
      "text/plain": [
       "<matplotlib.image.AxesImage at 0x7fe30e92a810>"
      ]
     },
     "execution_count": 21,
     "metadata": {},
     "output_type": "execute_result"
    },
    {
     "data": {
      "image/png": "[encoded data removed]",
      "text/plain": [
       "<Figure size 432x288 with 1 Axes>"
      ]
     },
     "metadata": {
      "needs_background": "light"
     },
     "output_type": "display_data"
    }
   ],
   "source": [
    "plt.imshow(bi_img*255)"
   ]
  },
  {
   "cell_type": "code",
   "execution_count": 77,
   "metadata": {},
   "outputs": [
    {
     "data": {
      "text/plain": [
       "True"
      ]
     },
     "execution_count": 77,
     "metadata": {},
     "output_type": "execute_result"
    }
   ],
   "source": [
    "cv2.imwrite('original_binary.bmp',bi_img*255)"
   ]
  },
  {
   "cell_type": "markdown",
   "metadata": {},
   "source": [
    "### Dilation function"
   ]
  },
  {
   "cell_type": "code",
   "execution_count": 11,
   "metadata": {},
   "outputs": [],
   "source": [
    "def dilation(image,kernel):\n",
    "    L_len=image.shape[0]\n",
    "    P_len=image.shape[1]\n",
    "    new_img=np.zeros((L_len,P_len), dtype=np.int)\n",
    "    ker_l=int((kernel.shape[0]-1)/2)\n",
    "    ker_p=int((kernel.shape[1]-1)/2)\n",
    "    \n",
    "    for l in range(L_len):\n",
    "        for p in range(P_len):\n",
    "            if(image[l,p,0]==1):\n",
    "                if(l-ker_l<0):    \n",
    "                    l_start=0\n",
    "                else:\n",
    "                    l_start=l-ker_l\n",
    "                    \n",
    "                if(l+ker_l>L_len-1):    \n",
    "                    l_end=L_len-1\n",
    "                else:\n",
    "                    l_end=l+ker_l\n",
    "                    \n",
    "                if(p-ker_p<0):    \n",
    "                    p_start=0\n",
    "                else:\n",
    "                    p_start=p-ker_p\n",
    "                    \n",
    "                if(p+ker_p>P_len-1):    \n",
    "                    p_end=P_len-1\n",
    "                else:\n",
    "                    p_end=p+ker_p\n",
    "                \n",
    "                for i in range(l_start,l_end+1):\n",
    "                    for j in range(p_start,p_end+1):\n",
    "                        new_img[i,j]= image[i,j,0] or kernel[i-l+ker_l,j-p+ker_p] or new_img[i,j]\n",
    "    re_img=np.stack((new_img, new_img, new_img), axis = -1) \n",
    "                        \n",
    "    return re_img"
   ]
  },
  {
   "cell_type": "markdown",
   "metadata": {},
   "source": [
    "### Erosion function"
   ]
  },
  {
   "cell_type": "code",
   "execution_count": 12,
   "metadata": {},
   "outputs": [],
   "source": [
    "def erosion(image,kernel):\n",
    "    L_len=image.shape[0]\n",
    "    P_len=image.shape[1]\n",
    "    new_img=np.copy(image[:,:,0])\n",
    "    ker_l=int((kernel.shape[0]-1)/2)\n",
    "    ker_p=int((kernel.shape[1]-1)/2)\n",
    "    \n",
    "    # for the marginal pixels, they should be 0\n",
    "    for l in [0,1,L_len-2,L_len-1]:\n",
    "        for p in range(P_len):\n",
    "            new_img[l,p]=0\n",
    "    for p in [0,1,P_len-2,P_len-1]:\n",
    "        for l in range(L_len):\n",
    "            new_img[l,p]=0\n",
    "    \n",
    "    for l in range(ker_l,L_len-ker_l):\n",
    "        for p in range(ker_p,P_len-ker_p):\n",
    "            if(image[l,p,0]==1):\n",
    "                l_start=l-ker_l\n",
    "                l_end=l+ker_l\n",
    "                p_start=p-ker_p\n",
    "                p_end=p+ker_p\n",
    "                val=1\n",
    "                \n",
    "                for i in range(l_start,l_end+1):\n",
    "                    for j in range(p_start,p_end+1):\n",
    "                        if(kernel[i-l+ker_l,j-p+ker_p]==1 and image[i,j,0]==0):\n",
    "                            val=0\n",
    "                            break\n",
    "                    if(val==0):\n",
    "                        break\n",
    "                \n",
    "                if(val==0):\n",
    "                    new_img[l,p]=0\n",
    "    re_img=np.stack((new_img, new_img, new_img), axis = -1) \n",
    "                        \n",
    "    return re_img"
   ]
  },
  {
   "cell_type": "code",
   "execution_count": 72,
   "metadata": {},
   "outputs": [],
   "source": [
    "dilation_img=dilation(bi_img,octogona_kernel)"
   ]
  },
  {
   "cell_type": "code",
   "execution_count": 73,
   "metadata": {},
   "outputs": [
    {
     "data": {
      "text/plain": [
       "<matplotlib.image.AxesImage at 0x7fe51f0a9510>"
      ]
     },
     "execution_count": 73,
     "metadata": {},
     "output_type": "execute_result"
    },
    {
     "data": {
      "image/png": "[encoded data removed]",
      "text/plain": [
       "<Figure size 432x288 with 1 Axes>"
      ]
     },
     "metadata": {
      "needs_background": "light"
     },
     "output_type": "display_data"
    }
   ],
   "source": [
    "plt.imshow(dilation_img*255)"
   ]
  },
  {
   "cell_type": "code",
   "execution_count": 74,
   "metadata": {},
   "outputs": [],
   "source": [
    "erosion_img=erosion(bi_img,octogona_kernel)"
   ]
  },
  {
   "cell_type": "code",
   "execution_count": 75,
   "metadata": {},
   "outputs": [
    {
     "data": {
      "text/plain": [
       "<matplotlib.image.AxesImage at 0x7fe522a20690>"
      ]
     },
     "execution_count": 75,
     "metadata": {},
     "output_type": "execute_result"
    },
    {
     "data": {
      "image/png": "[encoded data removed]",
      "text/plain": [
       "<Figure size 432x288 with 1 Axes>"
      ]
     },
     "metadata": {
      "needs_background": "light"
     },
     "output_type": "display_data"
    }
   ],
   "source": [
    "plt.imshow(erosion_img*255)"
   ]
  },
  {
   "cell_type": "markdown",
   "metadata": {},
   "source": [
    "### Export the images"
   ]
  },
  {
   "cell_type": "code",
   "execution_count": 78,
   "metadata": {},
   "outputs": [
    {
     "data": {
      "text/plain": [
       "True"
      ]
     },
     "execution_count": 78,
     "metadata": {},
     "output_type": "execute_result"
    }
   ],
   "source": [
    "cv2.imwrite('dilation.bmp', dilation_img*255)"
   ]
  },
  {
   "cell_type": "code",
   "execution_count": 79,
   "metadata": {},
   "outputs": [
    {
     "data": {
      "text/plain": [
       "True"
      ]
     },
     "execution_count": 79,
     "metadata": {},
     "output_type": "execute_result"
    }
   ],
   "source": [
    "cv2.imwrite('erosion.bmp', erosion_img*255)"
   ]
  },
  {
   "cell_type": "markdown",
   "metadata": {},
   "source": [
    "### Opening"
   ]
  },
  {
   "cell_type": "markdown",
   "metadata": {},
   "source": [
    "$$\n",
    "(B \\ominus K) \\oplus K \n",
    "$$"
   ]
  },
  {
   "cell_type": "code",
   "execution_count": 13,
   "metadata": {},
   "outputs": [],
   "source": [
    "erosion_img=erosion(bi_img,octogona_kernel)\n",
    "opening_img=dilation(erosion_img,octogona_kernel)"
   ]
  },
  {
   "cell_type": "code",
   "execution_count": 14,
   "metadata": {},
   "outputs": [
    {
     "data": {
      "text/plain": [
       "<matplotlib.image.AxesImage at 0x7fe30cbb3590>"
      ]
     },
     "execution_count": 14,
     "metadata": {},
     "output_type": "execute_result"
    },
    {
     "data": {
      "image/png": "[encoded data removed]",
      "text/plain": [
       "<Figure size 432x288 with 1 Axes>"
      ]
     },
     "metadata": {
      "needs_background": "light"
     },
     "output_type": "display_data"
    }
   ],
   "source": [
    "plt.imshow(opening_img*255)"
   ]
  },
  {
   "cell_type": "code",
   "execution_count": 31,
   "metadata": {},
   "outputs": [
    {
     "data": {
      "text/plain": [
       "True"
      ]
     },
     "execution_count": 31,
     "metadata": {},
     "output_type": "execute_result"
    }
   ],
   "source": [
    "cv2.imwrite('opening.bmp', opening_img*255)"
   ]
  },
  {
   "cell_type": "markdown",
   "metadata": {},
   "source": [
    "### Closing"
   ]
  },
  {
   "cell_type": "markdown",
   "metadata": {},
   "source": [
    "$$\n",
    "(B \\oplus K) \\ominus K \n",
    "$$"
   ]
  },
  {
   "cell_type": "code",
   "execution_count": 15,
   "metadata": {},
   "outputs": [],
   "source": [
    "dilation_img=dilation(bi_img,octogona_kernel)\n",
    "closing_img=erosion(dilation_img,octogona_kernel)"
   ]
  },
  {
   "cell_type": "code",
   "execution_count": 16,
   "metadata": {},
   "outputs": [
    {
     "data": {
      "text/plain": [
       "<matplotlib.image.AxesImage at 0x7fe30da29d50>"
      ]
     },
     "execution_count": 16,
     "metadata": {},
     "output_type": "execute_result"
    },
    {
     "data": {
      "image/png": "[encoded data removed]",
      "text/plain": [
       "<Figure size 432x288 with 1 Axes>"
      ]
     },
     "metadata": {
      "needs_background": "light"
     },
     "output_type": "display_data"
    }
   ],
   "source": [
    "plt.imshow(closing_img*255)"
   ]
  },
  {
   "cell_type": "code",
   "execution_count": 30,
   "metadata": {},
   "outputs": [
    {
     "data": {
      "text/plain": [
       "True"
      ]
     },
     "execution_count": 30,
     "metadata": {},
     "output_type": "execute_result"
    }
   ],
   "source": [
    "cv2.imwrite('closing.bmp', closing_img*255)"
   ]
  },
  {
   "cell_type": "markdown",
   "metadata": {},
   "source": [
    "### Hit-and-miss transform"
   ]
  },
  {
   "cell_type": "code",
   "execution_count": 17,
   "metadata": {},
   "outputs": [],
   "source": [
    "default_kernel_2=np.zeros((2,2), dtype=np.int)\n",
    "HM_kernel=default_kernel_2\n",
    "for i in [(0,0),(0,1),(1,1)]:\n",
    "    HM_kernel[i]=1"
   ]
  },
  {
   "cell_type": "code",
   "execution_count": 18,
   "metadata": {},
   "outputs": [
    {
     "data": {
      "text/plain": [
       "array([[1, 1],\n",
       "       [0, 1]])"
      ]
     },
     "execution_count": 18,
     "metadata": {},
     "output_type": "execute_result"
    }
   ],
   "source": [
    "HM_kernel"
   ]
  },
  {
   "cell_type": "code",
   "execution_count": 26,
   "metadata": {},
   "outputs": [],
   "source": [
    "def HitAndMiss(image,Kernel,J,K):\n",
    "    L_len=image.shape[0]\n",
    "    P_len=image.shape[1]\n",
    "    h_kernel=Kernel.shape[0]\n",
    "    w_kernel=Kernel.shape[1]\n",
    "    #J=[0,1] K=[1,0]\n",
    "    out_l_J=J[1]-0 #left side of J =1\n",
    "    out_r_J=w_kernel-1-J[1] #right side of J =0\n",
    "    out_t_J=J[0]-0 #top side of J=0\n",
    "    out_d_J=h_kernel-1-J[0] #down side of J=1\n",
    "    \n",
    "    out_l_K=K[1]-0 #left side of K=0\n",
    "    out_r_K=w_kernel-1-K[1] #right side of K=1\n",
    "    out_t_K=K[0]-0 #top side of K=1\n",
    "    out_d_K=h_kernel-1-K[0] #down side of K=0\n",
    "    \n",
    "    reverse_img=image*(-1)+1\n",
    "    J_img=np.zeros((L_len,P_len), dtype=np.int)\n",
    "    K_img=np.zeros((L_len,P_len), dtype=np.int)\n",
    "    hit_miss=np.zeros((L_len,P_len), dtype=np.int)\n",
    "    \n",
    "    #for kernel J\n",
    "    for l in range(out_t_J,L_len-out_d_J):\n",
    "        for p in range(out_l_J,P_len-out_r_J):\n",
    "            flag=1\n",
    "            for i in range(h_kernel):\n",
    "                for j in range(w_kernel):\n",
    "                    if(image[l-J[0]+i][p-J[1]+j][0]==0 and Kernel[i][j]==1):\n",
    "                        flag=0\n",
    "                        break\n",
    "                if(flag==0):\n",
    "                    break\n",
    "            if(flag==1):\n",
    "                J_img[l][p]=1\n",
    "            \n",
    "    #jor kernel K\n",
    "    for l in range(out_t_K,L_len-out_d_K):\n",
    "        for p in range(out_l_K,P_len-out_r_K):\n",
    "            flag=1\n",
    "            for i in range(h_kernel):\n",
    "                for j in range(w_kernel):\n",
    "                    if(reverse_img[l-K[0]+i][p-K[1]+j][0]==0 and Kernel[i][j]==1):\n",
    "                        flag=0\n",
    "                        break\n",
    "                if(flag==0):\n",
    "                    break\n",
    "            if(flag==1):\n",
    "                K_img[l][p]=1\n",
    "                \n",
    "    #for intersection\n",
    "    for l in range(L_len):\n",
    "        for p in range(P_len):\n",
    "            if(K_img[l][p]==1 and J_img[l][p]==1):\n",
    "                hit_miss[l][p]=1\n",
    "                \n",
    "    re_img=np.stack((hit_miss, hit_miss, hit_miss), axis = -1) \n",
    "    \n",
    "    return re_img"
   ]
  },
  {
   "cell_type": "code",
   "execution_count": 27,
   "metadata": {},
   "outputs": [],
   "source": [
    "hit_and_miss_img=HitAndMiss(bi_img,HM_kernel,(0,1),(1,0))"
   ]
  },
  {
   "cell_type": "code",
   "execution_count": 28,
   "metadata": {},
   "outputs": [
    {
     "data": {
      "text/plain": [
       "<matplotlib.image.AxesImage at 0x7fe30f5b6310>"
      ]
     },
     "execution_count": 28,
     "metadata": {},
     "output_type": "execute_result"
    },
    {
     "data": {
      "image/png": "[encoded data removed]",
      "text/plain": [
       "<Figure size 432x288 with 1 Axes>"
      ]
     },
     "metadata": {
      "needs_background": "light"
     },
     "output_type": "display_data"
    }
   ],
   "source": [
    "plt.imshow(hit_and_miss_img*255)"
   ]
  },
  {
   "cell_type": "code",
   "execution_count": 29,
   "metadata": {},
   "outputs": [
    {
     "data": {
      "text/plain": [
       "True"
      ]
     },
     "execution_count": 29,
     "metadata": {},
     "output_type": "execute_result"
    }
   ],
   "source": [
    "cv2.imwrite('hit_and_miss.bmp', hit_and_miss_img*255)"
   ]
  }
 ],
 "metadata": {
  "kernelspec": {
   "display_name": "Python 3",
   "language": "python",
   "name": "python3"
  },
  "language_info": {
   "codemirror_mode": {
    "name": "ipython",
    "version": 3
   },
   "file_extension": ".py",
   "mimetype": "text/x-python",
   "name": "python",
   "nbconvert_exporter": "python",
   "pygments_lexer": "ipython3",
   "version": "3.7.6"
  }
 },
 "nbformat": 4,
 "nbformat_minor": 4
}
