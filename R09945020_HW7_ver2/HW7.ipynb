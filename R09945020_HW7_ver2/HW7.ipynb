{
 "cells": [
  {
   "cell_type": "markdown",
   "metadata": {},
   "source": [
    "## Importing stuffs"
   ]
  },
  {
   "cell_type": "code",
   "execution_count": 1,
   "metadata": {},
   "outputs": [],
   "source": [
    "import numpy as np\n",
    "import matplotlib.pyplot as plt\n",
    "import cv2"
   ]
  },
  {
   "cell_type": "markdown",
   "metadata": {},
   "source": [
    "## Write a program which does thinning on a downsampled image (lena.bmp)."
   ]
  },
  {
   "cell_type": "markdown",
   "metadata": {},
   "source": [
    "#### Downsampling Lena from 512x512 to 64x64: \n",
    "\n",
    "* Binarize the benchmark image lena as in HW2, then using 8x8 blocks as a unit, * take the topmost-left pixel as the downsampled data.\n",
    "* You have to use 4-connected neighborhood detection.\n",
    "* You can use any programing language to implement homework, however, you'll get zero point if you just call existing library."
   ]
  },
  {
   "cell_type": "markdown",
   "metadata": {},
   "source": [
    "### Importing image and binarizing"
   ]
  },
  {
   "cell_type": "code",
   "execution_count": 2,
   "metadata": {},
   "outputs": [],
   "source": [
    "lena=cv2.imread('lena.bmp')"
   ]
  },
  {
   "cell_type": "code",
   "execution_count": 3,
   "metadata": {},
   "outputs": [],
   "source": [
    "bi_img = np.array([[[ 0 if lena[i, j, c] < 128 else 1 for c in range(lena.shape[2])] \n",
    "                           for j in range(int(lena.shape[1]))] \n",
    "                           for i in range(int(lena.shape[0]))], dtype='uint8')"
   ]
  },
  {
   "cell_type": "code",
   "execution_count": 4,
   "metadata": {},
   "outputs": [
    {
     "data": {
      "text/plain": [
       "<matplotlib.image.AxesImage at 0x7f96006cc910>"
      ]
     },
     "execution_count": 4,
     "metadata": {},
     "output_type": "execute_result"
    },
    {
     "data": {
      "image/png": "[encoded data removed]",
      "text/plain": [
       "<Figure size 432x288 with 1 Axes>"
      ]
     },
     "metadata": {
      "needs_background": "light"
     },
     "output_type": "display_data"
    }
   ],
   "source": [
    "plt.imshow(bi_img*255)"
   ]
  },
  {
   "cell_type": "markdown",
   "metadata": {},
   "source": [
    "### Downsampling"
   ]
  },
  {
   "cell_type": "code",
   "execution_count": 5,
   "metadata": {},
   "outputs": [],
   "source": [
    "def downsampling(img,size):\n",
    "    H=img.shape[0]\n",
    "    W=img.shape[1]\n",
    "    new_H=int(H/size[0])\n",
    "    new_W=int(W/size[1])\n",
    "    new_img=np.zeros((new_H,new_W), dtype=np.int)\n",
    "    \n",
    "    for i in range(new_H):\n",
    "        for j in range(new_W):\n",
    "            new_img[i,j]=img[i*size[0]][j*size[1]][0]\n",
    "            \n",
    "    re_img=np.stack((new_img, new_img, new_img), axis = -1) \n",
    "    return re_img"
   ]
  },
  {
   "cell_type": "code",
   "execution_count": 6,
   "metadata": {},
   "outputs": [],
   "source": [
    "small_img=downsampling(bi_img,(8,8))"
   ]
  },
  {
   "cell_type": "code",
   "execution_count": 7,
   "metadata": {},
   "outputs": [
    {
     "data": {
      "text/plain": [
       "<matplotlib.image.AxesImage at 0x7f95feabba90>"
      ]
     },
     "execution_count": 7,
     "metadata": {},
     "output_type": "execute_result"
    },
    {
     "data": {
      "image/png": "[encoded data removed]",
      "text/plain": [
       "<Figure size 432x288 with 1 Axes>"
      ]
     },
     "metadata": {
      "needs_background": "light"
     },
     "output_type": "display_data"
    }
   ],
   "source": [
    "plt.imshow(small_img*255)"
   ]
  },
  {
   "cell_type": "markdown",
   "metadata": {},
   "source": [
    "### Yokoi connectivity number"
   ]
  },
  {
   "cell_type": "code",
   "execution_count": 8,
   "metadata": {},
   "outputs": [],
   "source": [
    "def QRS(b,c,d,e):\n",
    "    if((b==c) & ((d!=b) | (e != b))):\n",
    "        return \"Q\"\n",
    "    if(b!=c):\n",
    "        return \"S\"\n",
    "    if((b==c) & ((d==b) & (e == b))):\n",
    "        return \"R\"\n",
    "    "
   ]
  },
  {
   "cell_type": "code",
   "execution_count": 9,
   "metadata": {},
   "outputs": [],
   "source": [
    "def yokoi(im,l,p):\n",
    "    neighbors=[QRS(im[l,p],im[l,p+1],im[l-1,p+1],im[l-1,p])\n",
    "              ,QRS(im[l,p],im[l-1,p],im[l-1,p-1],im[l,p-1])\n",
    "              ,QRS(im[l,p],im[l,p-1],im[l+1,p-1],im[l+1,p])\n",
    "              ,QRS(im[l,p],im[l+1,p],im[l+1,p+1],im[l,p+1])]\n",
    "    if (neighbors.count(\"S\")==4):\n",
    "        return 0\n",
    "    elif(neighbors.count(\"R\")==4):\n",
    "        return 5\n",
    "    else:\n",
    "        return neighbors.count(\"Q\")"
   ]
  },
  {
   "cell_type": "code",
   "execution_count": 10,
   "metadata": {},
   "outputs": [],
   "source": [
    "def yokoi_operation(img):\n",
    "    H=img.shape[0]\n",
    "    W=img.shape[1]\n",
    "    \n",
    "    label_img=np.zeros((H,W), dtype=np.int)\n",
    "    pad_img=np.pad(img, 1, mode='constant',constant_values=10)\n",
    "    for l in range(H):\n",
    "        for p in range(W):\n",
    "            ll=l+1\n",
    "            pp=p+1\n",
    "            if(img[l,p]==1):\n",
    "                label_img[l,p]=yokoi(pad_img,ll,pp)\n",
    "    return label_img"
   ]
  },
  {
   "cell_type": "markdown",
   "metadata": {},
   "source": [
    "#### Transforming 3D (RGB) image array to 2D image array"
   ]
  },
  {
   "cell_type": "code",
   "execution_count": 11,
   "metadata": {},
   "outputs": [],
   "source": [
    "def One_dim(img):\n",
    "    H=img.shape[0]\n",
    "    W=img.shape[1]\n",
    "    new_img=np.zeros((H,W), dtype=np.int)\n",
    "    for i in range(H):\n",
    "        for j in range(W):\n",
    "            new_img[i][j]=small_img[i][j][0]\n",
    "    return new_img"
   ]
  },
  {
   "cell_type": "code",
   "execution_count": 12,
   "metadata": {},
   "outputs": [],
   "source": [
    "small_2D_img=One_dim(small_img)"
   ]
  },
  {
   "cell_type": "markdown",
   "metadata": {},
   "source": [
    "#### Testing yokoi operation  "
   ]
  },
  {
   "cell_type": "code",
   "execution_count": 13,
   "metadata": {},
   "outputs": [],
   "source": [
    "yokoi_label=yokoi_operation(small_2D_img)"
   ]
  },
  {
   "cell_type": "code",
   "execution_count": 14,
   "metadata": {},
   "outputs": [],
   "source": [
    "def print_label(arr):\n",
    "    for i in range(arr.shape[0]):\n",
    "        for j in range(arr.shape[1]):\n",
    "            if(arr[i,j]==0):\n",
    "                print(\" \",end='')\n",
    "            else:\n",
    "                print(arr[i,j],end='')\n",
    "        print()"
   ]
  },
  {
   "cell_type": "markdown",
   "metadata": {},
   "source": [
    "### Pair Relationship Operator"
   ]
  },
  {
   "cell_type": "code",
   "execution_count": 15,
   "metadata": {},
   "outputs": [],
   "source": [
    "def h2_fun(a,m):\n",
    "    if(a==m):\n",
    "        return 1\n",
    "    else:\n",
    "        return 0"
   ]
  },
  {
   "cell_type": "code",
   "execution_count": 16,
   "metadata": {},
   "outputs": [],
   "source": [
    "def PairRelationship(im,ll,pp):\n",
    "    count=0\n",
    "    neighbors=[im[ll,pp+1],im[ll-1,pp],im[ll,pp-1],im[ll+1,pp]]\n",
    "    for i in neighbors:\n",
    "        count=h2_fun(i,1)+count\n",
    "    if((count!=0) & (im[ll,pp]==1)):\n",
    "        return \"p\" #p\n",
    "    elif((count==0) | (im[ll,pp]!=1)):\n",
    "        return \"q\" #q\n",
    "    else:\n",
    "        return 0"
   ]
  },
  {
   "cell_type": "code",
   "execution_count": 17,
   "metadata": {},
   "outputs": [],
   "source": [
    "def unpadding(img,width):\n",
    "    H=img.shape[0]-2*width\n",
    "    W=img.shape[1]-2*width\n",
    "    new_img=np.zeros((H,W), dtype=np.int)\n",
    "    for i in range(H):\n",
    "        for j in range(W):\n",
    "            new_img[i,j]=img[i+width,j+width]\n",
    "    return new_img"
   ]
  },
  {
   "cell_type": "markdown",
   "metadata": {},
   "source": [
    "### Main shrinking function"
   ]
  },
  {
   "cell_type": "code",
   "execution_count": 18,
   "metadata": {},
   "outputs": [],
   "source": [
    "def Shrinking_fun(img_arr):\n",
    "    H=img_arr.shape[0]\n",
    "    W=img_arr.shape[1]\n",
    "    i=0 #iteration num\n",
    "    change=0 #checking if the image\n",
    "    new_img=np.copy(img_arr)\n",
    "    \n",
    "    while(i==0 or change==1):\n",
    "        change=0\n",
    "        label_img=yokoi_operation(new_img)\n",
    "        pair_img=np.zeros((H,W), dtype='U')\n",
    "        pad_label=np.pad(label_img, 1, mode='constant',constant_values=0)\n",
    "        new_img_pad=np.pad(new_img, 1, mode='constant',constant_values=0)\n",
    "        \n",
    "        for l in range(H):\n",
    "            for p in range(W):\n",
    "                if(new_img[l,p]==1):\n",
    "                    ll=l+1\n",
    "                    pp=p+1\n",
    "                    pair_img[l,p]=PairRelationship(pad_label,ll,pp)\n",
    "        \n",
    "        for l in range(H):\n",
    "            for p in range(W):\n",
    "                if(pair_img[l,p]==\"p\"):\n",
    "                    ll=l+1\n",
    "                    pp=p+1\n",
    "                    value=yokoi(new_img_pad,ll,pp)\n",
    "                    if(value==1):\n",
    "                        new_img_pad[ll,pp]=0\n",
    "                        change=1\n",
    "                    new_img=unpadding(new_img_pad,1)\n",
    "        i=i+1\n",
    "        \n",
    "    return new_img, i"
   ]
  },
  {
   "cell_type": "markdown",
   "metadata": {},
   "source": [
    "### Main codes"
   ]
  },
  {
   "cell_type": "code",
   "execution_count": 19,
   "metadata": {},
   "outputs": [],
   "source": [
    "small_2D_img=One_dim(small_img)"
   ]
  },
  {
   "cell_type": "code",
   "execution_count": 20,
   "metadata": {},
   "outputs": [],
   "source": [
    "shrinking_2D_img, iter_num=Shrinking_fun(small_2D_img)"
   ]
  },
  {
   "cell_type": "markdown",
   "metadata": {},
   "source": [
    "#### Print iteration number"
   ]
  },
  {
   "cell_type": "code",
   "execution_count": 21,
   "metadata": {
    "scrolled": true
   },
   "outputs": [
    {
     "data": {
      "text/plain": [
       "7"
      ]
     },
     "execution_count": 21,
     "metadata": {},
     "output_type": "execute_result"
    }
   ],
   "source": [
    "iter_num"
   ]
  },
  {
   "cell_type": "markdown",
   "metadata": {},
   "source": [
    "#### Showing the image"
   ]
  },
  {
   "cell_type": "code",
   "execution_count": 22,
   "metadata": {},
   "outputs": [],
   "source": [
    "thin_2D=shrinking_2D_img*255"
   ]
  },
  {
   "cell_type": "code",
   "execution_count": 23,
   "metadata": {
    "scrolled": true
   },
   "outputs": [
    {
     "data": {
      "text/plain": [
       "<matplotlib.image.AxesImage at 0x7f95feb87d50>"
      ]
     },
     "execution_count": 23,
     "metadata": {},
     "output_type": "execute_result"
    },
    {
     "data": {
      "image/png": "[encoded data removed]",
      "text/plain": [
       "<Figure size 432x288 with 1 Axes>"
      ]
     },
     "metadata": {
      "needs_background": "light"
     },
     "output_type": "display_data"
    }
   ],
   "source": [
    "plt.imshow(thin_2D)"
   ]
  },
  {
   "cell_type": "markdown",
   "metadata": {},
   "source": [
    "### Export the image"
   ]
  },
  {
   "cell_type": "code",
   "execution_count": 24,
   "metadata": {},
   "outputs": [],
   "source": [
    "thinning_img=np.stack((thin_2D, thin_2D, thin_2D), axis = -1)"
   ]
  },
  {
   "cell_type": "code",
   "execution_count": 25,
   "metadata": {},
   "outputs": [
    {
     "data": {
      "text/plain": [
       "True"
      ]
     },
     "execution_count": 25,
     "metadata": {},
     "output_type": "execute_result"
    }
   ],
   "source": [
    "cv2.imwrite('HW7_thinning_img.jpg', thinning_img)"
   ]
  },
  {
   "cell_type": "code",
   "execution_count": null,
   "metadata": {},
   "outputs": [],
   "source": []
  }
 ],
 "metadata": {
  "kernelspec": {
   "display_name": "Python 3",
   "language": "python",
   "name": "python3"
  },
  "language_info": {
   "codemirror_mode": {
    "name": "ipython",
    "version": 3
   },
   "file_extension": ".py",
   "mimetype": "text/x-python",
   "name": "python",
   "nbconvert_exporter": "python",
   "pygments_lexer": "ipython3",
   "version": "3.7.6"
  }
 },
 "nbformat": 4,
 "nbformat_minor": 4
}
